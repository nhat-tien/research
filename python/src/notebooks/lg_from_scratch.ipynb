{
 "cells": [
  {
   "cell_type": "code",
   "execution_count": 51,
   "id": "220db1dc-a7f2-452b-bf6e-cd299685e13c",
   "metadata": {},
   "outputs": [],
   "source": [
    "import numpy as np\n",
    "import matplotlib.pyplot as plt\n",
    "from sklearn.linear_model import LogisticRegression\n",
    "import sys\n",
    "sys.path.append('..')\n",
    "from LogisticReg import LogisticRegression as LG"
   ]
  },
  {
   "cell_type": "code",
   "execution_count": 52,
   "id": "28299dcf-a374-4d73-85f0-f9b8f302fbde",
   "metadata": {},
   "outputs": [
    {
     "data": {
      "text/plain": [
       "(1298, 1)"
      ]
     },
     "execution_count": 52,
     "metadata": {},
     "output_type": "execute_result"
    }
   ],
   "source": [
    "arr = np.vstack([\n",
    "    np.tile([1,1], (647, 1)),\n",
    "    np.tile([1,0], (622, 1)),\n",
    "    np.tile([0,1], (2, 1)),\n",
    "    np.tile([0,0], (27, 1)),\n",
    "]) \n",
    "\n",
    "X_train = arr[:, [0]]\n",
    "y_train = arr[:, 1]\n",
    "X_train_for_hand_made = np.hstack([np.ones((X_train.shape[0],1)), X_train])\n",
    "X_train.shape"
   ]
  },
  {
   "cell_type": "code",
   "execution_count": 41,
   "id": "b339f58b-b889-44e3-b76f-0e73e1305c8c",
   "metadata": {},
   "outputs": [
    {
     "data": {
      "text/plain": [
       "array([1, 1, 1, ..., 0, 0, 0], shape=(1298,))"
      ]
     },
     "execution_count": 41,
     "metadata": {},
     "output_type": "execute_result"
    }
   ],
   "source": [
    "y_train"
   ]
  },
  {
   "cell_type": "code",
   "execution_count": 65,
   "id": "b71e7b3b-5f6a-4c4f-aaf2-272d5d141733",
   "metadata": {},
   "outputs": [
    {
     "name": "stdout",
     "output_type": "stream",
     "text": [
      "Weights: [[-0.05589089  0.07939464]]\n"
     ]
    },
    {
     "data": {
      "text/plain": [
       "Text(0, 0.5, 'Loss')"
      ]
     },
     "execution_count": 65,
     "metadata": {},
     "output_type": "execute_result"
    },
    {
     "data": {
      "image/png": "[encoded data removed]",
      "text/plain": [
       "<Figure size 640x480 with 1 Axes>"
      ]
     },
     "metadata": {},
     "output_type": "display_data"
    }
   ],
   "source": [
    "epochs = 100\n",
    "learning_rate = 0.0001\n",
    "lg = LG()\n",
    "lg.fit(X_train_for_hand_made, y_train, epochs = epochs, learning_rate = learning_rate)\n",
    "w_offline, cost_list_offline = lg.w, lg.cost_list\n",
    "print(f\"Weights: {w_offline}\")\n",
    "plt.plot(cost_list_offline)\n",
    "plt.xlabel(\"Iterations\")\n",
    "plt.ylabel(\"Loss\")"
   ]
  },
  {
   "cell_type": "code",
   "execution_count": 54,
   "id": "79e0c10b-8f47-46ce-81c2-376fe27349e4",
   "metadata": {},
   "outputs": [
    {
     "name": "stdout",
     "output_type": "stream",
     "text": [
      "[[1.88659065]]\n",
      "[-1.85335476]\n"
     ]
    }
   ],
   "source": [
    "lg = LogisticRegression()\n",
    "lg.fit(X_train, y_train)\n",
    "print(lg.coef_)\n",
    "print(lg.intercept_)"
   ]
  },
  {
   "cell_type": "code",
   "execution_count": null,
   "id": "28ca1533-5c6e-4af9-a686-821883348514",
   "metadata": {},
   "outputs": [],
   "source": []
  }
 ],
 "metadata": {
  "kernelspec": {
   "display_name": "Python 3 (ipykernel)",
   "language": "python",
   "name": "python3"
  },
  "language_info": {
   "codemirror_mode": {
    "name": "ipython",
    "version": 3
   },
   "file_extension": ".py",
   "mimetype": "text/x-python",
   "name": "python",
   "nbconvert_exporter": "python",
   "pygments_lexer": "ipython3",
   "version": "3.10.12"
  }
 },
 "nbformat": 4,
 "nbformat_minor": 5
}
