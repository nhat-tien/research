{
 "cells": [
  {
   "cell_type": "code",
   "execution_count": 3,
   "id": "4fad6fc5",
   "metadata": {},
   "outputs": [],
   "source": [
    "import numpy as np\n",
    "import matplotlib.pyplot as plt\n",
    "import pandas as pd\n",
    "import math\n",
    "import sys\n",
    "sys.path.append('..')\n",
    "from LogisticRegression import LogisticRegression\n",
    "from sklearn.metrics import accuracy_score"
   ]
  },
  {
   "cell_type": "markdown",
   "id": "213cfb41",
   "metadata": {},
   "source": [
    "# Read the dataset"
   ]
  },
  {
   "cell_type": "code",
   "execution_count": 119,
   "id": "3caac745",
   "metadata": {
    "scrolled": true
   },
   "outputs": [
    {
     "data": {
      "text/html": [
       "<div>\n",
       "<style scoped>\n",
       "    .dataframe tbody tr th:only-of-type {\n",
       "        vertical-align: middle;\n",
       "    }\n",
       "\n",
       "    .dataframe tbody tr th {\n",
       "        vertical-align: top;\n",
       "    }\n",
       "\n",
       "    .dataframe thead th {\n",
       "        text-align: right;\n",
       "    }\n",
       "</style>\n",
       "<table border=\"1\" class=\"dataframe\">\n",
       "  <thead>\n",
       "    <tr style=\"text-align: right;\">\n",
       "      <th></th>\n",
       "      <th>id</th>\n",
       "      <th>sex</th>\n",
       "      <th>fracture</th>\n",
       "      <th>duration</th>\n",
       "      <th>age</th>\n",
       "      <th>wt</th>\n",
       "      <th>ht</th>\n",
       "      <th>bmi</th>\n",
       "      <th>Tscores</th>\n",
       "      <th>fnbmd</th>\n",
       "      <th>lsbmd</th>\n",
       "      <th>fall</th>\n",
       "      <th>priorfracture</th>\n",
       "      <th>death</th>\n",
       "    </tr>\n",
       "  </thead>\n",
       "  <tbody>\n",
       "    <tr>\n",
       "      <th>0</th>\n",
       "      <td>3</td>\n",
       "      <td>M</td>\n",
       "      <td>0</td>\n",
       "      <td>0.55</td>\n",
       "      <td>73</td>\n",
       "      <td>98.0</td>\n",
       "      <td>175.0</td>\n",
       "      <td>32.0</td>\n",
       "      <td>0.33</td>\n",
       "      <td>1.08</td>\n",
       "      <td>1.458</td>\n",
       "      <td>1</td>\n",
       "      <td>0</td>\n",
       "      <td>1</td>\n",
       "    </tr>\n",
       "    <tr>\n",
       "      <th>1</th>\n",
       "      <td>8</td>\n",
       "      <td>F</td>\n",
       "      <td>0</td>\n",
       "      <td>15.38</td>\n",
       "      <td>68</td>\n",
       "      <td>72.0</td>\n",
       "      <td>166.0</td>\n",
       "      <td>26.0</td>\n",
       "      <td>-0.25</td>\n",
       "      <td>0.97</td>\n",
       "      <td>1.325</td>\n",
       "      <td>0</td>\n",
       "      <td>0</td>\n",
       "      <td>0</td>\n",
       "    </tr>\n",
       "    <tr>\n",
       "      <th>2</th>\n",
       "      <td>9</td>\n",
       "      <td>M</td>\n",
       "      <td>0</td>\n",
       "      <td>5.06</td>\n",
       "      <td>68</td>\n",
       "      <td>87.0</td>\n",
       "      <td>184.0</td>\n",
       "      <td>26.0</td>\n",
       "      <td>-0.25</td>\n",
       "      <td>1.01</td>\n",
       "      <td>1.494</td>\n",
       "      <td>0</td>\n",
       "      <td>0</td>\n",
       "      <td>1</td>\n",
       "    </tr>\n",
       "    <tr>\n",
       "      <th>3</th>\n",
       "      <td>10</td>\n",
       "      <td>F</td>\n",
       "      <td>0</td>\n",
       "      <td>14.25</td>\n",
       "      <td>62</td>\n",
       "      <td>72.0</td>\n",
       "      <td>173.0</td>\n",
       "      <td>24.0</td>\n",
       "      <td>-1.33</td>\n",
       "      <td>0.84</td>\n",
       "      <td>1.214</td>\n",
       "      <td>0</td>\n",
       "      <td>0</td>\n",
       "      <td>0</td>\n",
       "    </tr>\n",
       "    <tr>\n",
       "      <th>4</th>\n",
       "      <td>23</td>\n",
       "      <td>M</td>\n",
       "      <td>0</td>\n",
       "      <td>15.07</td>\n",
       "      <td>61</td>\n",
       "      <td>72.0</td>\n",
       "      <td>173.0</td>\n",
       "      <td>24.0</td>\n",
       "      <td>-1.92</td>\n",
       "      <td>0.81</td>\n",
       "      <td>1.144</td>\n",
       "      <td>0</td>\n",
       "      <td>0</td>\n",
       "      <td>0</td>\n",
       "    </tr>\n",
       "  </tbody>\n",
       "</table>\n",
       "</div>"
      ],
      "text/plain": [
       "   id sex  fracture  duration  age    wt     ht   bmi  Tscores  fnbmd  lsbmd  \\\n",
       "0   3   M         0      0.55   73  98.0  175.0  32.0     0.33   1.08  1.458   \n",
       "1   8   F         0     15.38   68  72.0  166.0  26.0    -0.25   0.97  1.325   \n",
       "2   9   M         0      5.06   68  87.0  184.0  26.0    -0.25   1.01  1.494   \n",
       "3  10   F         0     14.25   62  72.0  173.0  24.0    -1.33   0.84  1.214   \n",
       "4  23   M         0     15.07   61  72.0  173.0  24.0    -1.92   0.81  1.144   \n",
       "\n",
       "   fall  priorfracture  death  \n",
       "0     1              0      1  \n",
       "1     0              0      0  \n",
       "2     0              0      1  \n",
       "3     0              0      0  \n",
       "4     0              0      0  "
      ]
     },
     "execution_count": 119,
     "metadata": {},
     "output_type": "execute_result"
    }
   ],
   "source": [
    "df = pd.read_csv('../fracture.csv')\n",
    "df.head()"
   ]
  },
  {
   "cell_type": "markdown",
   "id": "08a7afff",
   "metadata": {},
   "source": [
    "### Check the classes\n",
    "\n",
    "We have 2 classes."
   ]
  },
  {
   "cell_type": "code",
   "execution_count": 120,
   "id": "a8c7dd22",
   "metadata": {
    "scrolled": true
   },
   "outputs": [
    {
     "data": {
      "text/plain": [
       "array([0, 1])"
      ]
     },
     "execution_count": 120,
     "metadata": {},
     "output_type": "execute_result"
    }
   ],
   "source": [
    "df[\"fracture\"].unique()"
   ]
  },
  {
   "cell_type": "markdown",
   "id": "2244da32-2064-498a-b300-18b32b605912",
   "metadata": {},
   "source": [
    "### Map sex to binary number"
   ]
  },
  {
   "cell_type": "code",
   "execution_count": 121,
   "id": "aa9c8188-aeb6-4ed9-a6ae-667129317b55",
   "metadata": {},
   "outputs": [],
   "source": [
    "df['sex'] = df['sex'].map({'M': 0, 'F': 1})"
   ]
  },
  {
   "cell_type": "markdown",
   "id": "eb10c193-4b0a-4f85-a2dd-68ecd71427f2",
   "metadata": {},
   "source": [
    "### Drop NaN"
   ]
  },
  {
   "cell_type": "code",
   "execution_count": 122,
   "id": "db4de329-7723-4910-82dc-7c7e0b577df2",
   "metadata": {},
   "outputs": [],
   "source": [
    "df = df.dropna()"
   ]
  },
  {
   "cell_type": "code",
   "execution_count": 123,
   "id": "0ceacc11-1ca1-48a6-9e62-8a430c3d836f",
   "metadata": {},
   "outputs": [],
   "source": [
    "df = df.drop(columns=[\n",
    "    \"id\",\n",
    "    \"duration\",\n",
    "    #\"age\",\n",
    "    #\"wt\",\n",
    "    #\"ht\",\n",
    "    #\"bmi\",\n",
    "    #\"Tscores\",\n",
    "    #\"fnbmd\",\n",
    "    #\"lsbmd\",\n",
    "    #\"fall\",\n",
    "    #\"priorfracture\",\n",
    "    #\"death\",\n",
    "])"
   ]
  },
  {
   "cell_type": "code",
   "execution_count": 86,
   "id": "339a1e39-aa38-495c-9621-b966104bd506",
   "metadata": {},
   "outputs": [],
   "source": [
    "def create_chart(name_of_var):\n",
    "    group_x = df[df[\"fracture\"] == 0]\n",
    "    plt.scatter(group_x[name_of_var], group_x[\"fracture\"],\n",
    "            color='blue', label='Group X')\n",
    "    group_y = df[df[\"fracture\"] == 1]\n",
    "    plt.scatter(group_y[name_of_var], group_y[\"fracture\"],\n",
    "                color='red', label='Group Y')\n",
    "    plt.title(name_of_var)\n",
    "    plt.xlabel(name_of_var)\n",
    "    plt.yticks([0, 1])\n",
    "    plt.ylabel(\"fracture\")\n",
    "    plt.show()"
   ]
  },
  {
   "cell_type": "code",
   "execution_count": 87,
   "id": "9ce22acd-0bbb-4c88-924d-84c3063c89d1",
   "metadata": {},
   "outputs": [
    {
     "data": {
      "image/png": "[encoded data removed]",
      "text/plain": [
       "<Figure size 640x480 with 1 Axes>"
      ]
     },
     "metadata": {},
     "output_type": "display_data"
    },
    {
     "data": {
      "image/png": "[encoded data removed]",
      "text/plain": [
       "<Figure size 640x480 with 1 Axes>"
      ]
     },
     "metadata": {},
     "output_type": "display_data"
    },
    {
     "data": {
      "image/png": "[encoded data removed]",
      "text/plain": [
       "<Figure size 640x480 with 1 Axes>"
      ]
     },
     "metadata": {},
     "output_type": "display_data"
    },
    {
     "data": {
      "image/png": "[encoded data removed]",
      "text/plain": [
       "<Figure size 640x480 with 1 Axes>"
      ]
     },
     "metadata": {},
     "output_type": "display_data"
    },
    {
     "data": {
      "image/png": "[encoded data removed]",
      "text/plain": [
       "<Figure size 640x480 with 1 Axes>"
      ]
     },
     "metadata": {},
     "output_type": "display_data"
    },
    {
     "data": {
      "image/png": "[encoded data removed]",
      "text/plain": [
       "<Figure size 640x480 with 1 Axes>"
      ]
     },
     "metadata": {},
     "output_type": "display_data"
    },
    {
     "data": {
      "image/png": "[encoded data removed]",
      "text/plain": [
       "<Figure size 640x480 with 1 Axes>"
      ]
     },
     "metadata": {},
     "output_type": "display_data"
    },
    {
     "data": {
      "image/png": "[encoded data removed]",
      "text/plain": [
       "<Figure size 640x480 with 1 Axes>"
      ]
     },
     "metadata": {},
     "output_type": "display_data"
    },
    {
     "data": {
      "image/png": "[encoded data removed]",
      "text/plain": [
       "<Figure size 640x480 with 1 Axes>"
      ]
     },
     "metadata": {},
     "output_type": "display_data"
    },
    {
     "data": {
      "image/png": "[encoded data removed]",
      "text/plain": [
       "<Figure size 640x480 with 1 Axes>"
      ]
     },
     "metadata": {},
     "output_type": "display_data"
    },
    {
     "data": {
      "image/png": "[encoded data removed]",
      "text/plain": [
       "<Figure size 640x480 with 1 Axes>"
      ]
     },
     "metadata": {},
     "output_type": "display_data"
    }
   ],
   "source": [
    "create_chart(\"duration\")\n",
    "create_chart(\"age\")\n",
    "create_chart(\"wt\")\n",
    "create_chart(\"ht\")\n",
    "create_chart(\"bmi\")\n",
    "create_chart(\"Tscores\")\n",
    "create_chart(\"fnbmd\")\n",
    "create_chart(\"lsbmd\")\n",
    "create_chart(\"fall\")\n",
    "create_chart(\"priorfracture\")\n",
    "create_chart(\"death\")"
   ]
  },
  {
   "cell_type": "markdown",
   "id": "e1086c77",
   "metadata": {},
   "source": [
    "## Separate two classes"
   ]
  },
  {
   "cell_type": "code",
   "execution_count": 124,
   "id": "ef7bcdb3",
   "metadata": {},
   "outputs": [],
   "source": [
    "dfs = [x for _, x in df.groupby('fracture')]\n",
    "df1 = dfs[1].reset_index(drop=True)\n",
    "df0 = dfs[0].reset_index(drop=True)"
   ]
  },
  {
   "cell_type": "code",
   "execution_count": 127,
   "id": "816c0d58",
   "metadata": {},
   "outputs": [
    {
     "name": "stdout",
     "output_type": "stream",
     "text": [
      "df1: (528, 12), df0: (1566, 12)\n"
     ]
    }
   ],
   "source": [
    "print(f\"df1: {df1.shape}, df0: {df0.shape}\")"
   ]
  },
  {
   "cell_type": "markdown",
   "id": "9a678a9f",
   "metadata": {},
   "source": [
    "### Assign class  number to each class"
   ]
  },
  {
   "cell_type": "code",
   "execution_count": 128,
   "id": "7386a99d",
   "metadata": {},
   "outputs": [],
   "source": [
    "# df0[\"Class\"] = 0\n",
    "# df1[\"Class\"] = 1"
   ]
  },
  {
   "cell_type": "markdown",
   "id": "891fb9b5",
   "metadata": {},
   "source": [
    "# Prepare train and test sets\n",
    "\n",
    "80\\% in train and 20\\% in test"
   ]
  },
  {
   "cell_type": "code",
   "execution_count": 129,
   "id": "a474cb9b",
   "metadata": {},
   "outputs": [],
   "source": [
    "train_df0 = df0.iloc[0: int(len(df0)*0.8)]\n",
    "train_df1 = df1.iloc[0: int(len(df1)*0.8)]"
   ]
  },
  {
   "cell_type": "code",
   "execution_count": 130,
   "id": "77ed42e1",
   "metadata": {},
   "outputs": [
    {
     "data": {
      "text/html": [
       "<div>\n",
       "<style scoped>\n",
       "    .dataframe tbody tr th:only-of-type {\n",
       "        vertical-align: middle;\n",
       "    }\n",
       "\n",
       "    .dataframe tbody tr th {\n",
       "        vertical-align: top;\n",
       "    }\n",
       "\n",
       "    .dataframe thead th {\n",
       "        text-align: right;\n",
       "    }\n",
       "</style>\n",
       "<table border=\"1\" class=\"dataframe\">\n",
       "  <thead>\n",
       "    <tr style=\"text-align: right;\">\n",
       "      <th></th>\n",
       "      <th>sex</th>\n",
       "      <th>age</th>\n",
       "      <th>wt</th>\n",
       "      <th>ht</th>\n",
       "      <th>bmi</th>\n",
       "      <th>Tscores</th>\n",
       "      <th>fnbmd</th>\n",
       "      <th>lsbmd</th>\n",
       "      <th>fall</th>\n",
       "      <th>priorfracture</th>\n",
       "      <th>death</th>\n",
       "    </tr>\n",
       "  </thead>\n",
       "  <tbody>\n",
       "    <tr>\n",
       "      <th>0</th>\n",
       "      <td>0</td>\n",
       "      <td>73</td>\n",
       "      <td>98.0</td>\n",
       "      <td>175.0</td>\n",
       "      <td>32.0</td>\n",
       "      <td>0.33</td>\n",
       "      <td>1.08</td>\n",
       "      <td>1.458</td>\n",
       "      <td>1</td>\n",
       "      <td>0</td>\n",
       "      <td>1</td>\n",
       "    </tr>\n",
       "    <tr>\n",
       "      <th>1</th>\n",
       "      <td>1</td>\n",
       "      <td>68</td>\n",
       "      <td>72.0</td>\n",
       "      <td>166.0</td>\n",
       "      <td>26.0</td>\n",
       "      <td>-0.25</td>\n",
       "      <td>0.97</td>\n",
       "      <td>1.325</td>\n",
       "      <td>0</td>\n",
       "      <td>0</td>\n",
       "      <td>0</td>\n",
       "    </tr>\n",
       "    <tr>\n",
       "      <th>2</th>\n",
       "      <td>0</td>\n",
       "      <td>68</td>\n",
       "      <td>87.0</td>\n",
       "      <td>184.0</td>\n",
       "      <td>26.0</td>\n",
       "      <td>-0.25</td>\n",
       "      <td>1.01</td>\n",
       "      <td>1.494</td>\n",
       "      <td>0</td>\n",
       "      <td>0</td>\n",
       "      <td>1</td>\n",
       "    </tr>\n",
       "    <tr>\n",
       "      <th>3</th>\n",
       "      <td>1</td>\n",
       "      <td>62</td>\n",
       "      <td>72.0</td>\n",
       "      <td>173.0</td>\n",
       "      <td>24.0</td>\n",
       "      <td>-1.33</td>\n",
       "      <td>0.84</td>\n",
       "      <td>1.214</td>\n",
       "      <td>0</td>\n",
       "      <td>0</td>\n",
       "      <td>0</td>\n",
       "    </tr>\n",
       "    <tr>\n",
       "      <th>4</th>\n",
       "      <td>0</td>\n",
       "      <td>61</td>\n",
       "      <td>72.0</td>\n",
       "      <td>173.0</td>\n",
       "      <td>24.0</td>\n",
       "      <td>-1.92</td>\n",
       "      <td>0.81</td>\n",
       "      <td>1.144</td>\n",
       "      <td>0</td>\n",
       "      <td>0</td>\n",
       "      <td>0</td>\n",
       "    </tr>\n",
       "    <tr>\n",
       "      <th>...</th>\n",
       "      <td>...</td>\n",
       "      <td>...</td>\n",
       "      <td>...</td>\n",
       "      <td>...</td>\n",
       "      <td>...</td>\n",
       "      <td>...</td>\n",
       "      <td>...</td>\n",
       "      <td>...</td>\n",
       "      <td>...</td>\n",
       "      <td>...</td>\n",
       "      <td>...</td>\n",
       "    </tr>\n",
       "    <tr>\n",
       "      <th>1669</th>\n",
       "      <td>0</td>\n",
       "      <td>81</td>\n",
       "      <td>45.0</td>\n",
       "      <td>163.0</td>\n",
       "      <td>17.0</td>\n",
       "      <td>-5.42</td>\n",
       "      <td>0.39</td>\n",
       "      <td>0.750</td>\n",
       "      <td>0</td>\n",
       "      <td>2</td>\n",
       "      <td>1</td>\n",
       "    </tr>\n",
       "    <tr>\n",
       "      <th>1670</th>\n",
       "      <td>1</td>\n",
       "      <td>66</td>\n",
       "      <td>90.0</td>\n",
       "      <td>165.0</td>\n",
       "      <td>33.0</td>\n",
       "      <td>-0.75</td>\n",
       "      <td>0.91</td>\n",
       "      <td>1.259</td>\n",
       "      <td>0</td>\n",
       "      <td>2</td>\n",
       "      <td>1</td>\n",
       "    </tr>\n",
       "    <tr>\n",
       "      <th>1671</th>\n",
       "      <td>1</td>\n",
       "      <td>73</td>\n",
       "      <td>49.0</td>\n",
       "      <td>160.0</td>\n",
       "      <td>19.0</td>\n",
       "      <td>-3.25</td>\n",
       "      <td>0.61</td>\n",
       "      <td>0.789</td>\n",
       "      <td>0</td>\n",
       "      <td>2</td>\n",
       "      <td>0</td>\n",
       "    </tr>\n",
       "    <tr>\n",
       "      <th>1672</th>\n",
       "      <td>1</td>\n",
       "      <td>81</td>\n",
       "      <td>62.0</td>\n",
       "      <td>156.0</td>\n",
       "      <td>25.0</td>\n",
       "      <td>-3.58</td>\n",
       "      <td>0.57</td>\n",
       "      <td>0.962</td>\n",
       "      <td>0</td>\n",
       "      <td>3</td>\n",
       "      <td>0</td>\n",
       "    </tr>\n",
       "    <tr>\n",
       "      <th>1673</th>\n",
       "      <td>0</td>\n",
       "      <td>76</td>\n",
       "      <td>47.0</td>\n",
       "      <td>162.0</td>\n",
       "      <td>18.0</td>\n",
       "      <td>-5.83</td>\n",
       "      <td>0.34</td>\n",
       "      <td>0.910</td>\n",
       "      <td>0</td>\n",
       "      <td>1</td>\n",
       "      <td>1</td>\n",
       "    </tr>\n",
       "  </tbody>\n",
       "</table>\n",
       "<p>1674 rows × 11 columns</p>\n",
       "</div>"
      ],
      "text/plain": [
       "      sex  age    wt     ht   bmi  Tscores  fnbmd  lsbmd  fall  priorfracture  \\\n",
       "0       0   73  98.0  175.0  32.0     0.33   1.08  1.458     1              0   \n",
       "1       1   68  72.0  166.0  26.0    -0.25   0.97  1.325     0              0   \n",
       "2       0   68  87.0  184.0  26.0    -0.25   1.01  1.494     0              0   \n",
       "3       1   62  72.0  173.0  24.0    -1.33   0.84  1.214     0              0   \n",
       "4       0   61  72.0  173.0  24.0    -1.92   0.81  1.144     0              0   \n",
       "...   ...  ...   ...    ...   ...      ...    ...    ...   ...            ...   \n",
       "1669    0   81  45.0  163.0  17.0    -5.42   0.39  0.750     0              2   \n",
       "1670    1   66  90.0  165.0  33.0    -0.75   0.91  1.259     0              2   \n",
       "1671    1   73  49.0  160.0  19.0    -3.25   0.61  0.789     0              2   \n",
       "1672    1   81  62.0  156.0  25.0    -3.58   0.57  0.962     0              3   \n",
       "1673    0   76  47.0  162.0  18.0    -5.83   0.34  0.910     0              1   \n",
       "\n",
       "      death  \n",
       "0         1  \n",
       "1         0  \n",
       "2         1  \n",
       "3         0  \n",
       "4         0  \n",
       "...     ...  \n",
       "1669      1  \n",
       "1670      1  \n",
       "1671      0  \n",
       "1672      0  \n",
       "1673      1  \n",
       "\n",
       "[1674 rows x 11 columns]"
      ]
     },
     "execution_count": 130,
     "metadata": {},
     "output_type": "execute_result"
    }
   ],
   "source": [
    "X_train_data = pd.concat([train_df0.drop(columns=[\"fracture\"]), train_df1.drop(columns=[\"fracture\"])]).reset_index(drop=True)\n",
    "X_train_data"
   ]
  },
  {
   "cell_type": "code",
   "execution_count": 131,
   "id": "b03b3452",
   "metadata": {},
   "outputs": [
    {
     "data": {
      "text/plain": [
       "array([0, 0, 0, ..., 1, 1, 1], shape=(1674,))"
      ]
     },
     "execution_count": 131,
     "metadata": {},
     "output_type": "execute_result"
    }
   ],
   "source": [
    "y_train = pd.concat([train_df0[\"fracture\"], train_df1[\"fracture\"]]).to_numpy()\n",
    "y_train"
   ]
  },
  {
   "cell_type": "code",
   "execution_count": 132,
   "id": "b3198c98",
   "metadata": {},
   "outputs": [],
   "source": [
    "test_df0 = df0.iloc[int(len(df0)*0.8):]\n",
    "test_df1 = df1.iloc[int(len(df1)*0.8):]"
   ]
  },
  {
   "cell_type": "code",
   "execution_count": 133,
   "id": "0ec760bf",
   "metadata": {},
   "outputs": [],
   "source": [
    "X_test_data = pd.concat([test_df0.drop(columns=[\"fracture\"]), test_df1.drop(columns=[\"fracture\"])]).reset_index(drop=True)\n",
    "y_test = pd.concat([test_df0[\"fracture\"], test_df1[\"fracture\"]]).to_numpy()"
   ]
  },
  {
   "cell_type": "markdown",
   "id": "e16ad783",
   "metadata": {},
   "source": [
    "# Standardize the dataset\n",
    "\n",
    "Before preparing the model, the entire dataset need to be standardized. Only train set mean and standard deviation are used to standardize the dataset to avoid potential bias. Each feature/attribute $(X_i)$ is subtracted by its mean $\\mu$ and divided by its standard deviation $\\sigma$. \n",
    "\n",
    "$\\mu = \\frac{1}{N} * X_i$\\\n",
    "$X_i = (X_i - \\mu) / \\sigma$"
   ]
  },
  {
   "cell_type": "code",
   "execution_count": 134,
   "id": "abded40c",
   "metadata": {},
   "outputs": [],
   "source": [
    "mean_train = X_train_data.mean()\n",
    "std_train = X_train_data.std()"
   ]
  },
  {
   "cell_type": "code",
   "execution_count": 135,
   "id": "3fa95cdb",
   "metadata": {},
   "outputs": [
    {
     "data": {
      "text/plain": [
       "sex                0.591995\n",
       "age               70.391278\n",
       "wt                70.594385\n",
       "ht               165.458781\n",
       "bmi               25.683990\n",
       "Tscores           -1.512849\n",
       "fnbmd              0.834779\n",
       "lsbmd              1.114164\n",
       "fall               0.324970\n",
       "priorfracture      0.162485\n",
       "death              0.376941\n",
       "dtype: float64"
      ]
     },
     "execution_count": 135,
     "metadata": {},
     "output_type": "execute_result"
    }
   ],
   "source": [
    "mean_train"
   ]
  },
  {
   "cell_type": "code",
   "execution_count": 136,
   "id": "d2771e97",
   "metadata": {},
   "outputs": [
    {
     "data": {
      "text/plain": [
       "sex               0.491611\n",
       "age               6.763740\n",
       "wt               14.118777\n",
       "ht                9.256576\n",
       "bmi               4.266652\n",
       "Tscores           1.203539\n",
       "fnbmd             0.151718\n",
       "lsbmd             0.228737\n",
       "fall              0.702321\n",
       "priorfracture     0.504495\n",
       "death             0.484765\n",
       "dtype: float64"
      ]
     },
     "execution_count": 136,
     "metadata": {},
     "output_type": "execute_result"
    }
   ],
   "source": [
    "std_train"
   ]
  },
  {
   "cell_type": "code",
   "execution_count": 137,
   "id": "8cffa383",
   "metadata": {},
   "outputs": [
    {
     "data": {
      "text/html": [
       "<div>\n",
       "<style scoped>\n",
       "    .dataframe tbody tr th:only-of-type {\n",
       "        vertical-align: middle;\n",
       "    }\n",
       "\n",
       "    .dataframe tbody tr th {\n",
       "        vertical-align: top;\n",
       "    }\n",
       "\n",
       "    .dataframe thead th {\n",
       "        text-align: right;\n",
       "    }\n",
       "</style>\n",
       "<table border=\"1\" class=\"dataframe\">\n",
       "  <thead>\n",
       "    <tr style=\"text-align: right;\">\n",
       "      <th></th>\n",
       "      <th>sex</th>\n",
       "      <th>age</th>\n",
       "      <th>wt</th>\n",
       "      <th>ht</th>\n",
       "      <th>bmi</th>\n",
       "      <th>Tscores</th>\n",
       "      <th>fnbmd</th>\n",
       "      <th>lsbmd</th>\n",
       "      <th>fall</th>\n",
       "      <th>priorfracture</th>\n",
       "      <th>death</th>\n",
       "    </tr>\n",
       "  </thead>\n",
       "  <tbody>\n",
       "    <tr>\n",
       "      <th>0</th>\n",
       "      <td>-1.204195</td>\n",
       "      <td>0.385692</td>\n",
       "      <td>1.941076</td>\n",
       "      <td>1.030750</td>\n",
       "      <td>1.480320</td>\n",
       "      <td>1.531192</td>\n",
       "      <td>1.616293</td>\n",
       "      <td>1.503193</td>\n",
       "      <td>0.961141</td>\n",
       "      <td>-0.322075</td>\n",
       "      <td>1.285280</td>\n",
       "    </tr>\n",
       "    <tr>\n",
       "      <th>1</th>\n",
       "      <td>0.829934</td>\n",
       "      <td>-0.353544</td>\n",
       "      <td>0.099556</td>\n",
       "      <td>0.058469</td>\n",
       "      <td>0.074065</td>\n",
       "      <td>1.049280</td>\n",
       "      <td>0.891265</td>\n",
       "      <td>0.921739</td>\n",
       "      <td>-0.462709</td>\n",
       "      <td>-0.322075</td>\n",
       "      <td>-0.777576</td>\n",
       "    </tr>\n",
       "    <tr>\n",
       "      <th>2</th>\n",
       "      <td>-1.204195</td>\n",
       "      <td>-0.353544</td>\n",
       "      <td>1.161971</td>\n",
       "      <td>2.003032</td>\n",
       "      <td>0.074065</td>\n",
       "      <td>1.049280</td>\n",
       "      <td>1.154912</td>\n",
       "      <td>1.660579</td>\n",
       "      <td>-0.462709</td>\n",
       "      <td>-0.322075</td>\n",
       "      <td>1.285280</td>\n",
       "    </tr>\n",
       "    <tr>\n",
       "      <th>3</th>\n",
       "      <td>0.829934</td>\n",
       "      <td>-1.240627</td>\n",
       "      <td>0.099556</td>\n",
       "      <td>0.814688</td>\n",
       "      <td>-0.394687</td>\n",
       "      <td>0.151926</td>\n",
       "      <td>0.034413</td>\n",
       "      <td>0.436465</td>\n",
       "      <td>-0.462709</td>\n",
       "      <td>-0.322075</td>\n",
       "      <td>-0.777576</td>\n",
       "    </tr>\n",
       "    <tr>\n",
       "      <th>4</th>\n",
       "      <td>-1.204195</td>\n",
       "      <td>-1.388474</td>\n",
       "      <td>0.099556</td>\n",
       "      <td>0.814688</td>\n",
       "      <td>-0.394687</td>\n",
       "      <td>-0.338294</td>\n",
       "      <td>-0.163322</td>\n",
       "      <td>0.130437</td>\n",
       "      <td>-0.462709</td>\n",
       "      <td>-0.322075</td>\n",
       "      <td>-0.777576</td>\n",
       "    </tr>\n",
       "  </tbody>\n",
       "</table>\n",
       "</div>"
      ],
      "text/plain": [
       "        sex       age        wt        ht       bmi   Tscores     fnbmd  \\\n",
       "0 -1.204195  0.385692  1.941076  1.030750  1.480320  1.531192  1.616293   \n",
       "1  0.829934 -0.353544  0.099556  0.058469  0.074065  1.049280  0.891265   \n",
       "2 -1.204195 -0.353544  1.161971  2.003032  0.074065  1.049280  1.154912   \n",
       "3  0.829934 -1.240627  0.099556  0.814688 -0.394687  0.151926  0.034413   \n",
       "4 -1.204195 -1.388474  0.099556  0.814688 -0.394687 -0.338294 -0.163322   \n",
       "\n",
       "      lsbmd      fall  priorfracture     death  \n",
       "0  1.503193  0.961141      -0.322075  1.285280  \n",
       "1  0.921739 -0.462709      -0.322075 -0.777576  \n",
       "2  1.660579 -0.462709      -0.322075  1.285280  \n",
       "3  0.436465 -0.462709      -0.322075 -0.777576  \n",
       "4  0.130437 -0.462709      -0.322075 -0.777576  "
      ]
     },
     "execution_count": 137,
     "metadata": {},
     "output_type": "execute_result"
    }
   ],
   "source": [
    "X_train_standard = (X_train_data - mean_train)/ std_train\n",
    "X_train_standard.head()"
   ]
  },
  {
   "cell_type": "code",
   "execution_count": 138,
   "id": "4ec01770",
   "metadata": {},
   "outputs": [
    {
     "data": {
      "text/plain": [
       "(1674, 11)"
      ]
     },
     "execution_count": 138,
     "metadata": {},
     "output_type": "execute_result"
    }
   ],
   "source": [
    "X_train_standard = X_train_standard.to_numpy()\n",
    "X_train_standard.shape"
   ]
  },
  {
   "cell_type": "code",
   "execution_count": 139,
   "id": "cb6d4d03",
   "metadata": {},
   "outputs": [
    {
     "data": {
      "text/plain": [
       "(1674, 12)"
      ]
     },
     "execution_count": 139,
     "metadata": {},
     "output_type": "execute_result"
    }
   ],
   "source": [
    "X_train = np.hstack([np.ones((X_train_standard.shape[0],1)), X_train_standard]) # add bias term\n",
    "X_train.shape"
   ]
  },
  {
   "cell_type": "code",
   "execution_count": 140,
   "id": "ef2d08e0",
   "metadata": {},
   "outputs": [
    {
     "data": {
      "text/html": [
       "<div>\n",
       "<style scoped>\n",
       "    .dataframe tbody tr th:only-of-type {\n",
       "        vertical-align: middle;\n",
       "    }\n",
       "\n",
       "    .dataframe tbody tr th {\n",
       "        vertical-align: top;\n",
       "    }\n",
       "\n",
       "    .dataframe thead th {\n",
       "        text-align: right;\n",
       "    }\n",
       "</style>\n",
       "<table border=\"1\" class=\"dataframe\">\n",
       "  <thead>\n",
       "    <tr style=\"text-align: right;\">\n",
       "      <th></th>\n",
       "      <th>sex</th>\n",
       "      <th>age</th>\n",
       "      <th>wt</th>\n",
       "      <th>ht</th>\n",
       "      <th>bmi</th>\n",
       "      <th>Tscores</th>\n",
       "      <th>fnbmd</th>\n",
       "      <th>lsbmd</th>\n",
       "      <th>fall</th>\n",
       "      <th>priorfracture</th>\n",
       "      <th>death</th>\n",
       "    </tr>\n",
       "  </thead>\n",
       "  <tbody>\n",
       "    <tr>\n",
       "      <th>0</th>\n",
       "      <td>-1.204195</td>\n",
       "      <td>-0.501391</td>\n",
       "      <td>1.728593</td>\n",
       "      <td>1.786970</td>\n",
       "      <td>0.777192</td>\n",
       "      <td>0.492588</td>\n",
       "      <td>0.627618</td>\n",
       "      <td>-0.271772</td>\n",
       "      <td>-0.462709</td>\n",
       "      <td>-0.322075</td>\n",
       "      <td>1.285280</td>\n",
       "    </tr>\n",
       "    <tr>\n",
       "      <th>1</th>\n",
       "      <td>-1.204195</td>\n",
       "      <td>-1.388474</td>\n",
       "      <td>-0.325410</td>\n",
       "      <td>0.922719</td>\n",
       "      <td>-0.863438</td>\n",
       "      <td>0.218397</td>\n",
       "      <td>0.363971</td>\n",
       "      <td>-0.228054</td>\n",
       "      <td>-0.462709</td>\n",
       "      <td>-0.322075</td>\n",
       "      <td>-0.777576</td>\n",
       "    </tr>\n",
       "    <tr>\n",
       "      <th>2</th>\n",
       "      <td>-1.204195</td>\n",
       "      <td>-1.388474</td>\n",
       "      <td>-0.325410</td>\n",
       "      <td>0.058469</td>\n",
       "      <td>-0.394687</td>\n",
       "      <td>0.700309</td>\n",
       "      <td>0.825353</td>\n",
       "      <td>-0.149361</td>\n",
       "      <td>-0.462709</td>\n",
       "      <td>-0.322075</td>\n",
       "      <td>1.285280</td>\n",
       "    </tr>\n",
       "    <tr>\n",
       "      <th>3</th>\n",
       "      <td>-1.204195</td>\n",
       "      <td>1.124928</td>\n",
       "      <td>1.091144</td>\n",
       "      <td>1.246813</td>\n",
       "      <td>0.308441</td>\n",
       "      <td>-0.130574</td>\n",
       "      <td>0.034413</td>\n",
       "      <td>0.169783</td>\n",
       "      <td>-0.462709</td>\n",
       "      <td>-0.322075</td>\n",
       "      <td>1.285280</td>\n",
       "    </tr>\n",
       "    <tr>\n",
       "      <th>4</th>\n",
       "      <td>0.829934</td>\n",
       "      <td>-0.057849</td>\n",
       "      <td>-0.396237</td>\n",
       "      <td>0.166500</td>\n",
       "      <td>-0.629062</td>\n",
       "      <td>-0.055794</td>\n",
       "      <td>-0.163322</td>\n",
       "      <td>-0.529710</td>\n",
       "      <td>-0.462709</td>\n",
       "      <td>-0.322075</td>\n",
       "      <td>-0.777576</td>\n",
       "    </tr>\n",
       "  </tbody>\n",
       "</table>\n",
       "</div>"
      ],
      "text/plain": [
       "        sex       age        wt        ht       bmi   Tscores     fnbmd  \\\n",
       "0 -1.204195 -0.501391  1.728593  1.786970  0.777192  0.492588  0.627618   \n",
       "1 -1.204195 -1.388474 -0.325410  0.922719 -0.863438  0.218397  0.363971   \n",
       "2 -1.204195 -1.388474 -0.325410  0.058469 -0.394687  0.700309  0.825353   \n",
       "3 -1.204195  1.124928  1.091144  1.246813  0.308441 -0.130574  0.034413   \n",
       "4  0.829934 -0.057849 -0.396237  0.166500 -0.629062 -0.055794 -0.163322   \n",
       "\n",
       "      lsbmd      fall  priorfracture     death  \n",
       "0 -0.271772 -0.462709      -0.322075  1.285280  \n",
       "1 -0.228054 -0.462709      -0.322075 -0.777576  \n",
       "2 -0.149361 -0.462709      -0.322075  1.285280  \n",
       "3  0.169783 -0.462709      -0.322075  1.285280  \n",
       "4 -0.529710 -0.462709      -0.322075 -0.777576  "
      ]
     },
     "execution_count": 140,
     "metadata": {},
     "output_type": "execute_result"
    }
   ],
   "source": [
    "X_test_standard = (X_test_data - mean_train)/ std_train\n",
    "X_test_standard.head()"
   ]
  },
  {
   "cell_type": "code",
   "execution_count": 141,
   "id": "364c8a42",
   "metadata": {},
   "outputs": [
    {
     "data": {
      "text/plain": [
       "(420, 11)"
      ]
     },
     "execution_count": 141,
     "metadata": {},
     "output_type": "execute_result"
    }
   ],
   "source": [
    "X_test_standard = X_test_standard.to_numpy()\n",
    "X_test_standard.shape"
   ]
  },
  {
   "cell_type": "code",
   "execution_count": 142,
   "id": "dac6e6f3",
   "metadata": {},
   "outputs": [
    {
     "data": {
      "text/plain": [
       "(420, 12)"
      ]
     },
     "execution_count": 142,
     "metadata": {},
     "output_type": "execute_result"
    }
   ],
   "source": [
    "X_test = np.hstack([np.ones((X_test_standard.shape[0],1)), X_test_standard]) # add bias term\n",
    "X_test.shape"
   ]
  },
  {
   "cell_type": "markdown",
   "id": "3ab3b164",
   "metadata": {},
   "source": [
    "## Training"
   ]
  },
  {
   "cell_type": "code",
   "execution_count": 147,
   "id": "c7ca524e",
   "metadata": {},
   "outputs": [
    {
     "name": "stdout",
     "output_type": "stream",
     "text": [
      "Weights: [[-1.19349992  0.47858277  0.11663445 -0.07936943  0.34455829  0.10974276\n",
      "  -0.23559561 -0.10930951 -0.1694706   0.07305846  1.25203211  0.08476339]]\n"
     ]
    },
    {
     "data": {
      "text/plain": [
       "Text(0, 0.5, 'Loss')"
      ]
     },
     "execution_count": 147,
     "metadata": {},
     "output_type": "execute_result"
    },
    {
     "data": {
      "image/png": "[encoded data removed]",
      "text/plain": [
       "<Figure size 640x480 with 1 Axes>"
      ]
     },
     "metadata": {},
     "output_type": "display_data"
    }
   ],
   "source": [
    "epochs = 2000\n",
    "learning_rate = 0.00001\n",
    "lg = LogisticRegression()\n",
    "lg.fit(X_train, y_train, epochs = epochs, learning_rate = learning_rate)\n",
    "w_offline, cost_list_offline = lg.w, lg.cost_list\n",
    "print(f\"Weights: {w_offline}\")\n",
    "plt.plot(cost_list_offline)\n",
    "plt.xlabel(\"Iterations\")\n",
    "plt.ylabel(\"Loss\")"
   ]
  },
  {
   "cell_type": "code",
   "execution_count": 148,
   "id": "b3abaab0-d74f-407a-a8b4-6a44165586a1",
   "metadata": {},
   "outputs": [
    {
     "data": {
      "text/plain": [
       "array([0, 0, 0, 0, 0, 0, 0, 0, 0, 0, 0, 0, 0, 0, 0, 0, 0, 0, 0, 0, 0, 0,\n",
       "       0, 0, 0, 0, 0, 0, 0, 0, 0, 0, 0, 0, 0, 0, 0, 0, 0, 0, 0, 0, 0, 0,\n",
       "       0, 0, 0, 0, 0, 1, 0, 0, 0, 0, 0, 0, 0, 0, 0, 0, 0, 0, 0, 0, 0, 0,\n",
       "       0, 0, 0, 0, 0, 1, 0, 0, 0, 0, 0, 0, 0, 0, 0, 0, 0, 1, 0, 0, 0, 0,\n",
       "       0, 0, 0, 0, 0, 0, 0, 0, 0, 0, 0, 0, 0, 0, 1, 0, 0, 0, 0, 0, 0, 0,\n",
       "       1, 1, 1, 1, 0, 0, 0, 0, 0, 0, 0, 0, 0, 0, 0, 0, 0, 0, 0, 0, 0, 0,\n",
       "       1, 0, 0, 0, 0, 0, 0, 0, 0, 0, 0, 0, 0, 0, 1, 0, 0, 0, 0, 0, 0, 0,\n",
       "       0, 0, 0, 0, 0, 0, 0, 0, 0, 0, 0, 1, 0, 0, 0, 0, 0, 0, 0, 0, 0, 1,\n",
       "       0, 0, 1, 1, 0, 0, 0, 0, 0, 0, 0, 0, 0, 0, 0, 0, 0, 0, 0, 0, 0, 0,\n",
       "       0, 1, 0, 0, 0, 1, 0, 0, 1, 0, 0, 0, 0, 0, 0, 0, 1, 0, 0, 0, 0, 0,\n",
       "       0, 0, 1, 1, 0, 0, 0, 1, 0, 0, 0, 0, 0, 0, 1, 1, 0, 1, 0, 0, 0, 0,\n",
       "       0, 0, 0, 0, 0, 1, 1, 0, 0, 0, 1, 0, 0, 1, 1, 0, 0, 0, 0, 0, 1, 0,\n",
       "       0, 1, 1, 1, 1, 1, 1, 0, 0, 0, 1, 0, 1, 0, 1, 0, 0, 1, 1, 0, 0, 0,\n",
       "       1, 0, 0, 0, 1, 0, 1, 1, 0, 1, 0, 0, 0, 0, 0, 0, 0, 0, 0, 0, 0, 0,\n",
       "       0, 0, 0, 0, 0, 0, 0, 0, 0, 0, 0, 0, 1, 1, 1, 0, 1, 1, 1, 1, 1, 1,\n",
       "       0, 0, 1, 0, 0, 1, 1, 0, 1, 1, 0, 1, 0, 0, 0, 0, 0, 0, 0, 1, 0, 0,\n",
       "       0, 1, 1, 1, 1, 0, 1, 0, 1, 0, 0, 1, 0, 0, 0, 0, 0, 0, 0, 1, 0, 0,\n",
       "       0, 0, 1, 0, 0, 0, 1, 1, 0, 0, 1, 0, 1, 1, 0, 1, 1, 0, 1, 1, 1, 0,\n",
       "       0, 0, 0, 0, 1, 0, 0, 1, 1, 0, 1, 0, 0, 0, 0, 1, 0, 0, 0, 0, 0, 0,\n",
       "       0, 0])"
      ]
     },
     "execution_count": 148,
     "metadata": {},
     "output_type": "execute_result"
    }
   ],
   "source": [
    "y_pred = lg.prediction(X_test)\n",
    "y_pred"
   ]
  },
  {
   "cell_type": "code",
   "execution_count": 149,
   "id": "d88df4d5-478d-4907-a94e-6d64614aaa27",
   "metadata": {},
   "outputs": [
    {
     "data": {
      "text/plain": [
       "array([0, 0, 0, 0, 0, 0, 0, 0, 0, 0, 0, 0, 0, 0, 0, 0, 0, 0, 0, 0, 0, 0,\n",
       "       0, 0, 0, 0, 0, 0, 0, 0, 0, 0, 0, 0, 0, 0, 0, 0, 0, 0, 0, 0, 0, 0,\n",
       "       0, 0, 0, 0, 0, 0, 0, 0, 0, 0, 0, 0, 0, 0, 0, 0, 0, 0, 0, 0, 0, 0,\n",
       "       0, 0, 0, 0, 0, 0, 0, 0, 0, 0, 0, 0, 0, 0, 0, 0, 0, 0, 0, 0, 0, 0,\n",
       "       0, 0, 0, 0, 0, 0, 0, 0, 0, 0, 0, 0, 0, 0, 0, 0, 0, 0, 0, 0, 0, 0,\n",
       "       0, 0, 0, 0, 0, 0, 0, 0, 0, 0, 0, 0, 0, 0, 0, 0, 0, 0, 0, 0, 0, 0,\n",
       "       0, 0, 0, 0, 0, 0, 0, 0, 0, 0, 0, 0, 0, 0, 0, 0, 0, 0, 0, 0, 0, 0,\n",
       "       0, 0, 0, 0, 0, 0, 0, 0, 0, 0, 0, 0, 0, 0, 0, 0, 0, 0, 0, 0, 0, 0,\n",
       "       0, 0, 0, 0, 0, 0, 0, 0, 0, 0, 0, 0, 0, 0, 0, 0, 0, 0, 0, 0, 0, 0,\n",
       "       0, 0, 0, 0, 0, 0, 0, 0, 0, 0, 0, 0, 0, 0, 0, 0, 0, 0, 0, 0, 0, 0,\n",
       "       0, 0, 0, 0, 0, 0, 0, 0, 0, 0, 0, 0, 0, 0, 0, 0, 0, 0, 0, 0, 0, 0,\n",
       "       0, 0, 0, 0, 0, 0, 0, 0, 0, 0, 0, 0, 0, 0, 0, 0, 0, 0, 0, 0, 0, 0,\n",
       "       0, 0, 0, 0, 0, 0, 0, 0, 0, 0, 0, 0, 0, 0, 0, 0, 0, 0, 0, 0, 0, 0,\n",
       "       0, 0, 0, 0, 0, 0, 0, 0, 0, 0, 0, 0, 0, 0, 0, 0, 0, 0, 0, 0, 0, 0,\n",
       "       0, 0, 0, 0, 0, 0, 1, 1, 1, 1, 1, 1, 1, 1, 1, 1, 1, 1, 1, 1, 1, 1,\n",
       "       1, 1, 1, 1, 1, 1, 1, 1, 1, 1, 1, 1, 1, 1, 1, 1, 1, 1, 1, 1, 1, 1,\n",
       "       1, 1, 1, 1, 1, 1, 1, 1, 1, 1, 1, 1, 1, 1, 1, 1, 1, 1, 1, 1, 1, 1,\n",
       "       1, 1, 1, 1, 1, 1, 1, 1, 1, 1, 1, 1, 1, 1, 1, 1, 1, 1, 1, 1, 1, 1,\n",
       "       1, 1, 1, 1, 1, 1, 1, 1, 1, 1, 1, 1, 1, 1, 1, 1, 1, 1, 1, 1, 1, 1,\n",
       "       1, 1])"
      ]
     },
     "execution_count": 149,
     "metadata": {},
     "output_type": "execute_result"
    }
   ],
   "source": [
    "y_test"
   ]
  },
  {
   "cell_type": "code",
   "execution_count": 150,
   "id": "d7354ead-ac5d-42ae-9af3-8bbdc1ecc31e",
   "metadata": {},
   "outputs": [
    {
     "name": "stdout",
     "output_type": "stream",
     "text": [
      "Accuracy: 73.33%\n"
     ]
    }
   ],
   "source": [
    "acc = accuracy_score(y_test, y_pred)\n",
    "print(f\"Accuracy: {acc:.2%}\")"
   ]
  },
  {
   "cell_type": "code",
   "execution_count": null,
   "id": "3f276a23-b154-4d95-84cc-3733a0a276d2",
   "metadata": {},
   "outputs": [],
   "source": []
  },
  {
   "cell_type": "code",
   "execution_count": null,
   "id": "18160269-3e13-4423-9ea9-82b17b34ad13",
   "metadata": {},
   "outputs": [],
   "source": []
  }
 ],
 "metadata": {
  "kernelspec": {
   "display_name": "Python 3 (ipykernel)",
   "language": "python",
   "name": "python3"
  },
  "language_info": {
   "codemirror_mode": {
    "name": "ipython",
    "version": 3
   },
   "file_extension": ".py",
   "mimetype": "text/x-python",
   "name": "python",
   "nbconvert_exporter": "python",
   "pygments_lexer": "ipython3",
   "version": "3.10.12"
  }
 },
 "nbformat": 4,
 "nbformat_minor": 5
}
